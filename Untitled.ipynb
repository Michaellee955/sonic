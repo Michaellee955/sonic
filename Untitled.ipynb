{
 "cells": [
  {
   "cell_type": "code",
   "execution_count": null,
   "metadata": {},
   "outputs": [],
   "source": [
    "# import retro\n",
    "from retro_contest.local import make\n",
    "import os\n",
    "import tensorflow as tf\n",
    "\n",
    "from baselines.common.vec_env.dummy_vec_env import DummyVecEnv\n",
    "from baselines.common.vec_env.subproc_vec_env import SubprocVecEnv\n",
    "import baselines.ppo2.ppo2 as ppo2\n",
    "import baselines.ppo2.policies as policies\n",
    "import gym_remote.exceptions as gre\n",
    "\n",
    "from sonic_util import make_env"
   ]
  },
  {
   "cell_type": "code",
   "execution_count": null,
   "metadata": {},
   "outputs": [],
   "source": [
    "#!/usr/bin/env python\n",
    "\n",
    "\"\"\"\n",
    "Train an agent on Sonic using PPO2 from OpenAI Baselines.\n",
    "\"\"\"\n",
    "\n",
    "import tensorflow as tf\n",
    "\n",
    "from baselines.common.vec_env.dummy_vec_env import DummyVecEnv\n",
    "import baselines.ppo2.ppo2 as ppo2\n",
    "import baselines.ppo2.policies as policies\n",
    "import gym_remote.exceptions as gre\n",
    "\n",
    "from sonic_util import make_env\n",
    "\n",
    "def main():\n",
    "    \"\"\"Run PPO until the environment throws an exception.\"\"\"\n",
    "    config = tf.ConfigProto()\n",
    "    config.gpu_options.allow_growth = True # pylint: disable=E1101\n",
    "    with tf.Session(config=config):\n",
    "        # Take more timesteps than we need to be sure that\n",
    "        # we stop due to an exception.\n",
    "        ppo2.learn(policy=policies.CnnPolicy,\n",
    "                   env=DummyVecEnv([make_env]),\n",
    "                   nsteps=4096,\n",
    "                   nminibatches=8,\n",
    "                   lam=0.95,\n",
    "                   gamma=0.99,\n",
    "                   noptepochs=3,\n",
    "                   log_interval=1,\n",
    "                   ent_coef=0.01,\n",
    "                   lr=lambda _: 2e-4,\n",
    "                   cliprange=lambda _: 0.1,\n",
    "                   total_timesteps=int(1e7))\n",
    "\n",
    "if __name__ == '__main__':\n",
    "    try:\n",
    "        main()\n",
    "    except gre.GymRemoteError as exc:\n",
    "        print('exception', exc)"
   ]
  },
  {
   "cell_type": "code",
   "execution_count": null,
   "metadata": {
    "collapsed": true
   },
   "outputs": [],
   "source": [
    "def main():\n",
    "    env = retro.make(game='Airstriker-Genesis', state='Level1')\n",
    "    obs = env.reset()\n",
    "    while True:\n",
    "        obs, rew, done, info = env.step(env.action_space.sample())\n",
    "        env.render()\n",
    "        if done:\n",
    "            obs = env.reset()"
   ]
  },
  {
   "cell_type": "code",
   "execution_count": null,
   "metadata": {
    "collapsed": true
   },
   "outputs": [],
   "source": [
    "if __name__ == '__main__':\n",
    "    main()"
   ]
  },
  {
   "cell_type": "markdown",
   "metadata": {},
   "source": [
    "## random"
   ]
  },
  {
   "cell_type": "code",
   "execution_count": null,
   "metadata": {
    "collapsed": true
   },
   "outputs": [],
   "source": [
    "def main():\n",
    "    env = make(game='SonicTheHedgehog-Genesis', state='LabyrinthZone.Act1')\n",
    "    obs = env.reset()\n",
    "    while True:\n",
    "        obs, rew, done, info = env.step(env.action_space.sample())\n",
    "        env.render()\n",
    "        if done:\n",
    "            obs = env.reset()"
   ]
  },
  {
   "cell_type": "code",
   "execution_count": null,
   "metadata": {},
   "outputs": [],
   "source": [
    "if __name__ == '__main__':\n",
    "    main()"
   ]
  },
  {
   "cell_type": "code",
   "execution_count": null,
   "metadata": {
    "collapsed": true
   },
   "outputs": [],
   "source": []
  }
 ],
 "metadata": {
  "kernelspec": {
   "display_name": "Python 3",
   "language": "python",
   "name": "python3"
  },
  "language_info": {
   "codemirror_mode": {
    "name": "ipython",
    "version": 3
   },
   "file_extension": ".py",
   "mimetype": "text/x-python",
   "name": "python",
   "nbconvert_exporter": "python",
   "pygments_lexer": "ipython3",
   "version": "3.6.1"
  }
 },
 "nbformat": 4,
 "nbformat_minor": 2
}
